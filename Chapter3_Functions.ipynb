{
  "nbformat": 4,
  "nbformat_minor": 0,
  "metadata": {
    "colab": {
      "name": "Chapter3-Functions.ipynb",
      "provenance": [],
      "collapsed_sections": [],
      "authorship_tag": "ABX9TyPnL1y3cEQgcSSykV8S7dhE",
      "include_colab_link": true
    },
    "kernelspec": {
      "name": "python3",
      "display_name": "Python 3"
    }
  },
  "cells": [
    {
      "cell_type": "markdown",
      "metadata": {
        "id": "view-in-github",
        "colab_type": "text"
      },
      "source": [
        "<a href=\"https://colab.research.google.com/github/paiml/minimal-python/blob/master/Chapter3_Functions.ipynb\" target=\"_parent\"><img src=\"https://colab.research.google.com/assets/colab-badge.svg\" alt=\"Open In Colab\"/></a>"
      ]
    },
    {
      "cell_type": "markdown",
      "metadata": {
        "id": "yh19-aXLq7Q1",
        "colab_type": "text"
      },
      "source": [
        "## Marco Polo\n"
      ]
    },
    {
      "cell_type": "code",
      "metadata": {
        "id": "knRQcVkxqw2u",
        "colab_type": "code",
        "colab": {}
      },
      "source": [
        "def marco(name):\n",
        "    if name == \"Marco\":\n",
        "        return \"Polo\""
      ],
      "execution_count": 0,
      "outputs": []
    },
    {
      "cell_type": "code",
      "metadata": {
        "id": "R5kUcEe0uRnf",
        "colab_type": "code",
        "outputId": "0ace8638-6997-4d2c-8a4e-9f0607c56477",
        "colab": {
          "base_uri": "https://localhost:8080/",
          "height": 34
        }
      },
      "source": [
        "marco(\"Marco\")"
      ],
      "execution_count": 2,
      "outputs": [
        {
          "output_type": "execute_result",
          "data": {
            "text/plain": [
              "'Polo'"
            ]
          },
          "metadata": {
            "tags": []
          },
          "execution_count": 2
        }
      ]
    },
    {
      "cell_type": "code",
      "metadata": {
        "id": "_xBr9VzH2T4n",
        "colab_type": "code",
        "colab": {}
      },
      "source": [
        "marco(\"Bob\")"
      ],
      "execution_count": 0,
      "outputs": []
    },
    {
      "cell_type": "markdown",
      "metadata": {
        "id": "UDZ2koud4rxW",
        "colab_type": "text"
      },
      "source": [
        "*Challenge:  Write your own simple function that take a variable and returns something else if a phrase is matched.  For example something like this:* \n",
        "\n",
        "```python\n",
        "if dollars == 1000:\n",
        "    return \"rich\"\n",
        "```\n"
      ]
    },
    {
      "cell_type": "code",
      "metadata": {
        "id": "D1F7tXsfu-u3",
        "colab_type": "code",
        "colab": {}
      },
      "source": [
        ""
      ],
      "execution_count": 0,
      "outputs": []
    },
    {
      "cell_type": "markdown",
      "metadata": {
        "id": "A9gLKTiC8u5L",
        "colab_type": "text"
      },
      "source": [
        "## Function With No Input or Return"
      ]
    },
    {
      "cell_type": "code",
      "metadata": {
        "id": "oUqpI5OA8329",
        "colab_type": "code",
        "colab": {}
      },
      "source": [
        "def simple_marco():\n",
        "    print(\"Marco Polo\")"
      ],
      "execution_count": 0,
      "outputs": []
    },
    {
      "cell_type": "code",
      "metadata": {
        "id": "N6btjlOm8-St",
        "colab_type": "code",
        "colab": {
          "base_uri": "https://localhost:8080/",
          "height": 34
        },
        "outputId": "3dca7af7-ef28-485b-c6ec-a0a087f68081"
      },
      "source": [
        "simple_marco()"
      ],
      "execution_count": 6,
      "outputs": [
        {
          "output_type": "stream",
          "text": [
            "Marco Polo\n"
          ],
          "name": "stdout"
        }
      ]
    },
    {
      "cell_type": "code",
      "metadata": {
        "id": "-nQZr3QU8_ot",
        "colab_type": "code",
        "colab": {
          "base_uri": "https://localhost:8080/",
          "height": 34
        },
        "outputId": "42b2fcd3-c0c1-4c36-98db-84e2493ef5d3"
      },
      "source": [
        "return_value = simple_marco()"
      ],
      "execution_count": 9,
      "outputs": [
        {
          "output_type": "stream",
          "text": [
            "Marco Polo\n"
          ],
          "name": "stdout"
        }
      ]
    },
    {
      "cell_type": "code",
      "metadata": {
        "id": "OV_8Lp45BHVG",
        "colab_type": "code",
        "colab": {
          "base_uri": "https://localhost:8080/",
          "height": 34
        },
        "outputId": "3b987d2d-6c94-4ce3-add2-6cb10045318a"
      },
      "source": [
        "print(return_value)"
      ],
      "execution_count": 10,
      "outputs": [
        {
          "output_type": "stream",
          "text": [
            "None\n"
          ],
          "name": "stdout"
        }
      ]
    },
    {
      "cell_type": "code",
      "metadata": {
        "id": "7c_ZnzbzBJge",
        "colab_type": "code",
        "colab": {}
      },
      "source": [
        ""
      ],
      "execution_count": 0,
      "outputs": []
    },
    {
      "cell_type": "markdown",
      "metadata": {
        "id": "GWz9A2kxFD7z",
        "colab_type": "text"
      },
      "source": [
        "*Challenge: Write a function with no input or return*"
      ]
    },
    {
      "cell_type": "markdown",
      "metadata": {
        "id": "__wqBKNbBrhg",
        "colab_type": "text"
      },
      "source": [
        "### Function That Returns Without Accepting Input"
      ]
    },
    {
      "cell_type": "code",
      "metadata": {
        "id": "bQhRroy9BuNG",
        "colab_type": "code",
        "colab": {}
      },
      "source": [
        "def medium_marco():\n",
        "    statement = \"Marco \" + \"Polo\"\n",
        "    return statement"
      ],
      "execution_count": 0,
      "outputs": []
    },
    {
      "cell_type": "code",
      "metadata": {
        "id": "x7irKBBLB4Z9",
        "colab_type": "code",
        "colab": {
          "base_uri": "https://localhost:8080/",
          "height": 34
        },
        "outputId": "2018c3a4-eb04-4173-8c91-c89842066834"
      },
      "source": [
        "return_medium_marco = medium_marco()\n",
        "print(return_medium_marco)"
      ],
      "execution_count": 12,
      "outputs": [
        {
          "output_type": "stream",
          "text": [
            "Marco Polo\n"
          ],
          "name": "stdout"
        }
      ]
    },
    {
      "cell_type": "code",
      "metadata": {
        "id": "XwpNCgZwCBCS",
        "colab_type": "code",
        "colab": {}
      },
      "source": [
        ""
      ],
      "execution_count": 0,
      "outputs": []
    },
    {
      "cell_type": "markdown",
      "metadata": {
        "id": "jVgBElSWDBFa",
        "colab_type": "text"
      },
      "source": [
        "### Function That That Accepts Input Without Return"
      ]
    },
    {
      "cell_type": "code",
      "metadata": {
        "id": "PVEhS3cmDGEK",
        "colab_type": "code",
        "colab": {}
      },
      "source": [
        "def input_marco(name):\n",
        "    if name == \"Marco\":\n",
        "        print(\"Polo\")\n",
        "    else:\n",
        "        print(f\"Nice try {name}. No Cigar!\")"
      ],
      "execution_count": 0,
      "outputs": []
    },
    {
      "cell_type": "code",
      "metadata": {
        "id": "eWN7E6W1Fme-",
        "colab_type": "code",
        "colab": {}
      },
      "source": [
        ""
      ],
      "execution_count": 0,
      "outputs": []
    },
    {
      "cell_type": "code",
      "metadata": {
        "id": "cC8g_TIFEe6R",
        "colab_type": "code",
        "colab": {
          "base_uri": "https://localhost:8080/",
          "height": 34
        },
        "outputId": "53d50c80-92c0-4b15-d0d6-cda498c8f173"
      },
      "source": [
        "input_marco(\"Marco\")"
      ],
      "execution_count": 14,
      "outputs": [
        {
          "output_type": "stream",
          "text": [
            "Polo\n"
          ],
          "name": "stdout"
        }
      ]
    },
    {
      "cell_type": "code",
      "metadata": {
        "id": "zOvbbktTEruy",
        "colab_type": "code",
        "colab": {
          "base_uri": "https://localhost:8080/",
          "height": 34
        },
        "outputId": "50023b43-9bc3-4239-a8b6-e52d223ffc6c"
      },
      "source": [
        "input_marco(\"Bob\")"
      ],
      "execution_count": 17,
      "outputs": [
        {
          "output_type": "stream",
          "text": [
            "Nice try Bob. No Cigar!\n"
          ],
          "name": "stdout"
        }
      ]
    },
    {
      "cell_type": "code",
      "metadata": {
        "id": "P_9conCHEwJv",
        "colab_type": "code",
        "colab": {
          "base_uri": "https://localhost:8080/",
          "height": 50
        },
        "outputId": "a6158fe1-1ff5-4555-e882-9437b7e5e257"
      },
      "source": [
        "result = input_marco(\"Jenny\")\n",
        "print(result)"
      ],
      "execution_count": 18,
      "outputs": [
        {
          "output_type": "stream",
          "text": [
            "Nice try Jenny. No Cigar!\n",
            "None\n"
          ],
          "name": "stdout"
        }
      ]
    },
    {
      "cell_type": "markdown",
      "metadata": {
        "id": "Liesp31xFLzv",
        "colab_type": "text"
      },
      "source": [
        "*Challenge: Write a function with input and no return*"
      ]
    },
    {
      "cell_type": "code",
      "metadata": {
        "id": "0PDmJwlMFOJ4",
        "colab_type": "code",
        "colab": {}
      },
      "source": [
        ""
      ],
      "execution_count": 0,
      "outputs": []
    }
  ]
}