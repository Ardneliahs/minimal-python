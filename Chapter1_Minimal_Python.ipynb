{
  "nbformat": 4,
  "nbformat_minor": 0,
  "metadata": {
    "colab": {
      "name": "Chapter1-Minimal-Python.ipynb",
      "provenance": [],
      "authorship_tag": "ABX9TyPVecEpACCNdHLdeizxEywR",
      "include_colab_link": true
    },
    "kernelspec": {
      "name": "python3",
      "display_name": "Python 3"
    }
  },
  "cells": [
    {
      "cell_type": "markdown",
      "metadata": {
        "id": "view-in-github",
        "colab_type": "text"
      },
      "source": [
        "<a href=\"https://colab.research.google.com/github/paiml/minimal-python/blob/master/Chapter1_Minimal_Python.ipynb\" target=\"_parent\"><img src=\"https://colab.research.google.com/assets/colab-badge.svg\" alt=\"Open In Colab\"/></a>"
      ]
    },
    {
      "cell_type": "markdown",
      "metadata": {
        "id": "yh19-aXLq7Q1",
        "colab_type": "text"
      },
      "source": [
        "## Execute Commands in Colab Notebook"
      ]
    },
    {
      "cell_type": "code",
      "metadata": {
        "id": "knRQcVkxqw2u",
        "colab_type": "code",
        "colab": {
          "base_uri": "https://localhost:8080/",
          "height": 34
        },
        "outputId": "62ebb9cf-bf7f-4232-de79-585b0d4f86ef"
      },
      "source": [
        "print(\"hi\")"
      ],
      "execution_count": 1,
      "outputs": [
        {
          "output_type": "stream",
          "text": [
            "hi\n"
          ],
          "name": "stdout"
        }
      ]
    }
  ]
}